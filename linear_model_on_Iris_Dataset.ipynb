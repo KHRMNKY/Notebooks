{
  "metadata": {
    "kernelspec": {
      "display_name": "Python 3",
      "name": "python3"
    },
    "language_info": {
      "name": "python",
      "version": "3.10.13",
      "mimetype": "text/x-python",
      "codemirror_mode": {
        "name": "ipython",
        "version": 3
      },
      "pygments_lexer": "ipython3",
      "nbconvert_exporter": "python",
      "file_extension": ".py"
    },
    "kaggle": {
      "accelerator": "none",
      "dataSources": [
        {
          "sourceId": 420,
          "sourceType": "datasetVersion",
          "datasetId": 19
        }
      ],
      "dockerImageVersionId": 30698,
      "isInternetEnabled": true,
      "language": "python",
      "sourceType": "notebook",
      "isGpuEnabled": false
    },
    "colab": {
      "provenance": []
    }
  },
  "nbformat_minor": 0,
  "nbformat": 4,
  "cells": [
    {
      "cell_type": "code",
      "source": [
        "import torch\n",
        "from torch import nn\n",
        "import pandas as pd\n",
        "import numpy as np\n",
        "import matplotlib.pyplot as plt\n",
        "import sklearn\n",
        "from sklearn.utils import shuffle\n"
      ],
      "metadata": {
        "trusted": true,
        "id": "BYfbs6mNuPA1"
      },
      "execution_count": 20,
      "outputs": []
    },
    {
      "cell_type": "code",
      "source": [
        "df=pd.read_csv(\"/content/Iris.csv\")\n",
        "data = shuffle(df, random_state=42)"
      ],
      "metadata": {
        "trusted": true,
        "id": "U4RFoJ5vuPA3"
      },
      "execution_count": 21,
      "outputs": []
    },
    {
      "cell_type": "code",
      "source": [
        "data.describe()"
      ],
      "metadata": {
        "trusted": true,
        "colab": {
          "base_uri": "https://localhost:8080/",
          "height": 301
        },
        "id": "Fic02eztuPA3",
        "outputId": "f42bd5ee-3b9d-4e8d-c76c-95ab76814131"
      },
      "execution_count": 22,
      "outputs": [
        {
          "output_type": "execute_result",
          "data": {
            "text/plain": [
              "               Id  SepalLengthCm  SepalWidthCm  PetalLengthCm  PetalWidthCm\n",
              "count  150.000000     150.000000    150.000000     150.000000    150.000000\n",
              "mean    75.500000       5.843333      3.054000       3.758667      1.198667\n",
              "std     43.445368       0.828066      0.433594       1.764420      0.763161\n",
              "min      1.000000       4.300000      2.000000       1.000000      0.100000\n",
              "25%     38.250000       5.100000      2.800000       1.600000      0.300000\n",
              "50%     75.500000       5.800000      3.000000       4.350000      1.300000\n",
              "75%    112.750000       6.400000      3.300000       5.100000      1.800000\n",
              "max    150.000000       7.900000      4.400000       6.900000      2.500000"
            ],
            "text/html": [
              "\n",
              "  <div id=\"df-4c005ea3-2a80-4dec-96a8-faeec224d634\" class=\"colab-df-container\">\n",
              "    <div>\n",
              "<style scoped>\n",
              "    .dataframe tbody tr th:only-of-type {\n",
              "        vertical-align: middle;\n",
              "    }\n",
              "\n",
              "    .dataframe tbody tr th {\n",
              "        vertical-align: top;\n",
              "    }\n",
              "\n",
              "    .dataframe thead th {\n",
              "        text-align: right;\n",
              "    }\n",
              "</style>\n",
              "<table border=\"1\" class=\"dataframe\">\n",
              "  <thead>\n",
              "    <tr style=\"text-align: right;\">\n",
              "      <th></th>\n",
              "      <th>Id</th>\n",
              "      <th>SepalLengthCm</th>\n",
              "      <th>SepalWidthCm</th>\n",
              "      <th>PetalLengthCm</th>\n",
              "      <th>PetalWidthCm</th>\n",
              "    </tr>\n",
              "  </thead>\n",
              "  <tbody>\n",
              "    <tr>\n",
              "      <th>count</th>\n",
              "      <td>150.000000</td>\n",
              "      <td>150.000000</td>\n",
              "      <td>150.000000</td>\n",
              "      <td>150.000000</td>\n",
              "      <td>150.000000</td>\n",
              "    </tr>\n",
              "    <tr>\n",
              "      <th>mean</th>\n",
              "      <td>75.500000</td>\n",
              "      <td>5.843333</td>\n",
              "      <td>3.054000</td>\n",
              "      <td>3.758667</td>\n",
              "      <td>1.198667</td>\n",
              "    </tr>\n",
              "    <tr>\n",
              "      <th>std</th>\n",
              "      <td>43.445368</td>\n",
              "      <td>0.828066</td>\n",
              "      <td>0.433594</td>\n",
              "      <td>1.764420</td>\n",
              "      <td>0.763161</td>\n",
              "    </tr>\n",
              "    <tr>\n",
              "      <th>min</th>\n",
              "      <td>1.000000</td>\n",
              "      <td>4.300000</td>\n",
              "      <td>2.000000</td>\n",
              "      <td>1.000000</td>\n",
              "      <td>0.100000</td>\n",
              "    </tr>\n",
              "    <tr>\n",
              "      <th>25%</th>\n",
              "      <td>38.250000</td>\n",
              "      <td>5.100000</td>\n",
              "      <td>2.800000</td>\n",
              "      <td>1.600000</td>\n",
              "      <td>0.300000</td>\n",
              "    </tr>\n",
              "    <tr>\n",
              "      <th>50%</th>\n",
              "      <td>75.500000</td>\n",
              "      <td>5.800000</td>\n",
              "      <td>3.000000</td>\n",
              "      <td>4.350000</td>\n",
              "      <td>1.300000</td>\n",
              "    </tr>\n",
              "    <tr>\n",
              "      <th>75%</th>\n",
              "      <td>112.750000</td>\n",
              "      <td>6.400000</td>\n",
              "      <td>3.300000</td>\n",
              "      <td>5.100000</td>\n",
              "      <td>1.800000</td>\n",
              "    </tr>\n",
              "    <tr>\n",
              "      <th>max</th>\n",
              "      <td>150.000000</td>\n",
              "      <td>7.900000</td>\n",
              "      <td>4.400000</td>\n",
              "      <td>6.900000</td>\n",
              "      <td>2.500000</td>\n",
              "    </tr>\n",
              "  </tbody>\n",
              "</table>\n",
              "</div>\n",
              "    <div class=\"colab-df-buttons\">\n",
              "\n",
              "  <div class=\"colab-df-container\">\n",
              "    <button class=\"colab-df-convert\" onclick=\"convertToInteractive('df-4c005ea3-2a80-4dec-96a8-faeec224d634')\"\n",
              "            title=\"Convert this dataframe to an interactive table.\"\n",
              "            style=\"display:none;\">\n",
              "\n",
              "  <svg xmlns=\"http://www.w3.org/2000/svg\" height=\"24px\" viewBox=\"0 -960 960 960\">\n",
              "    <path d=\"M120-120v-720h720v720H120Zm60-500h600v-160H180v160Zm220 220h160v-160H400v160Zm0 220h160v-160H400v160ZM180-400h160v-160H180v160Zm440 0h160v-160H620v160ZM180-180h160v-160H180v160Zm440 0h160v-160H620v160Z\"/>\n",
              "  </svg>\n",
              "    </button>\n",
              "\n",
              "  <style>\n",
              "    .colab-df-container {\n",
              "      display:flex;\n",
              "      gap: 12px;\n",
              "    }\n",
              "\n",
              "    .colab-df-convert {\n",
              "      background-color: #E8F0FE;\n",
              "      border: none;\n",
              "      border-radius: 50%;\n",
              "      cursor: pointer;\n",
              "      display: none;\n",
              "      fill: #1967D2;\n",
              "      height: 32px;\n",
              "      padding: 0 0 0 0;\n",
              "      width: 32px;\n",
              "    }\n",
              "\n",
              "    .colab-df-convert:hover {\n",
              "      background-color: #E2EBFA;\n",
              "      box-shadow: 0px 1px 2px rgba(60, 64, 67, 0.3), 0px 1px 3px 1px rgba(60, 64, 67, 0.15);\n",
              "      fill: #174EA6;\n",
              "    }\n",
              "\n",
              "    .colab-df-buttons div {\n",
              "      margin-bottom: 4px;\n",
              "    }\n",
              "\n",
              "    [theme=dark] .colab-df-convert {\n",
              "      background-color: #3B4455;\n",
              "      fill: #D2E3FC;\n",
              "    }\n",
              "\n",
              "    [theme=dark] .colab-df-convert:hover {\n",
              "      background-color: #434B5C;\n",
              "      box-shadow: 0px 1px 3px 1px rgba(0, 0, 0, 0.15);\n",
              "      filter: drop-shadow(0px 1px 2px rgba(0, 0, 0, 0.3));\n",
              "      fill: #FFFFFF;\n",
              "    }\n",
              "  </style>\n",
              "\n",
              "    <script>\n",
              "      const buttonEl =\n",
              "        document.querySelector('#df-4c005ea3-2a80-4dec-96a8-faeec224d634 button.colab-df-convert');\n",
              "      buttonEl.style.display =\n",
              "        google.colab.kernel.accessAllowed ? 'block' : 'none';\n",
              "\n",
              "      async function convertToInteractive(key) {\n",
              "        const element = document.querySelector('#df-4c005ea3-2a80-4dec-96a8-faeec224d634');\n",
              "        const dataTable =\n",
              "          await google.colab.kernel.invokeFunction('convertToInteractive',\n",
              "                                                    [key], {});\n",
              "        if (!dataTable) return;\n",
              "\n",
              "        const docLinkHtml = 'Like what you see? Visit the ' +\n",
              "          '<a target=\"_blank\" href=https://colab.research.google.com/notebooks/data_table.ipynb>data table notebook</a>'\n",
              "          + ' to learn more about interactive tables.';\n",
              "        element.innerHTML = '';\n",
              "        dataTable['output_type'] = 'display_data';\n",
              "        await google.colab.output.renderOutput(dataTable, element);\n",
              "        const docLink = document.createElement('div');\n",
              "        docLink.innerHTML = docLinkHtml;\n",
              "        element.appendChild(docLink);\n",
              "      }\n",
              "    </script>\n",
              "  </div>\n",
              "\n",
              "\n",
              "<div id=\"df-ae9b6b37-48b8-4bb0-9f87-f5e7785ff93b\">\n",
              "  <button class=\"colab-df-quickchart\" onclick=\"quickchart('df-ae9b6b37-48b8-4bb0-9f87-f5e7785ff93b')\"\n",
              "            title=\"Suggest charts\"\n",
              "            style=\"display:none;\">\n",
              "\n",
              "<svg xmlns=\"http://www.w3.org/2000/svg\" height=\"24px\"viewBox=\"0 0 24 24\"\n",
              "     width=\"24px\">\n",
              "    <g>\n",
              "        <path d=\"M19 3H5c-1.1 0-2 .9-2 2v14c0 1.1.9 2 2 2h14c1.1 0 2-.9 2-2V5c0-1.1-.9-2-2-2zM9 17H7v-7h2v7zm4 0h-2V7h2v10zm4 0h-2v-4h2v4z\"/>\n",
              "    </g>\n",
              "</svg>\n",
              "  </button>\n",
              "\n",
              "<style>\n",
              "  .colab-df-quickchart {\n",
              "      --bg-color: #E8F0FE;\n",
              "      --fill-color: #1967D2;\n",
              "      --hover-bg-color: #E2EBFA;\n",
              "      --hover-fill-color: #174EA6;\n",
              "      --disabled-fill-color: #AAA;\n",
              "      --disabled-bg-color: #DDD;\n",
              "  }\n",
              "\n",
              "  [theme=dark] .colab-df-quickchart {\n",
              "      --bg-color: #3B4455;\n",
              "      --fill-color: #D2E3FC;\n",
              "      --hover-bg-color: #434B5C;\n",
              "      --hover-fill-color: #FFFFFF;\n",
              "      --disabled-bg-color: #3B4455;\n",
              "      --disabled-fill-color: #666;\n",
              "  }\n",
              "\n",
              "  .colab-df-quickchart {\n",
              "    background-color: var(--bg-color);\n",
              "    border: none;\n",
              "    border-radius: 50%;\n",
              "    cursor: pointer;\n",
              "    display: none;\n",
              "    fill: var(--fill-color);\n",
              "    height: 32px;\n",
              "    padding: 0;\n",
              "    width: 32px;\n",
              "  }\n",
              "\n",
              "  .colab-df-quickchart:hover {\n",
              "    background-color: var(--hover-bg-color);\n",
              "    box-shadow: 0 1px 2px rgba(60, 64, 67, 0.3), 0 1px 3px 1px rgba(60, 64, 67, 0.15);\n",
              "    fill: var(--button-hover-fill-color);\n",
              "  }\n",
              "\n",
              "  .colab-df-quickchart-complete:disabled,\n",
              "  .colab-df-quickchart-complete:disabled:hover {\n",
              "    background-color: var(--disabled-bg-color);\n",
              "    fill: var(--disabled-fill-color);\n",
              "    box-shadow: none;\n",
              "  }\n",
              "\n",
              "  .colab-df-spinner {\n",
              "    border: 2px solid var(--fill-color);\n",
              "    border-color: transparent;\n",
              "    border-bottom-color: var(--fill-color);\n",
              "    animation:\n",
              "      spin 1s steps(1) infinite;\n",
              "  }\n",
              "\n",
              "  @keyframes spin {\n",
              "    0% {\n",
              "      border-color: transparent;\n",
              "      border-bottom-color: var(--fill-color);\n",
              "      border-left-color: var(--fill-color);\n",
              "    }\n",
              "    20% {\n",
              "      border-color: transparent;\n",
              "      border-left-color: var(--fill-color);\n",
              "      border-top-color: var(--fill-color);\n",
              "    }\n",
              "    30% {\n",
              "      border-color: transparent;\n",
              "      border-left-color: var(--fill-color);\n",
              "      border-top-color: var(--fill-color);\n",
              "      border-right-color: var(--fill-color);\n",
              "    }\n",
              "    40% {\n",
              "      border-color: transparent;\n",
              "      border-right-color: var(--fill-color);\n",
              "      border-top-color: var(--fill-color);\n",
              "    }\n",
              "    60% {\n",
              "      border-color: transparent;\n",
              "      border-right-color: var(--fill-color);\n",
              "    }\n",
              "    80% {\n",
              "      border-color: transparent;\n",
              "      border-right-color: var(--fill-color);\n",
              "      border-bottom-color: var(--fill-color);\n",
              "    }\n",
              "    90% {\n",
              "      border-color: transparent;\n",
              "      border-bottom-color: var(--fill-color);\n",
              "    }\n",
              "  }\n",
              "</style>\n",
              "\n",
              "  <script>\n",
              "    async function quickchart(key) {\n",
              "      const quickchartButtonEl =\n",
              "        document.querySelector('#' + key + ' button');\n",
              "      quickchartButtonEl.disabled = true;  // To prevent multiple clicks.\n",
              "      quickchartButtonEl.classList.add('colab-df-spinner');\n",
              "      try {\n",
              "        const charts = await google.colab.kernel.invokeFunction(\n",
              "            'suggestCharts', [key], {});\n",
              "      } catch (error) {\n",
              "        console.error('Error during call to suggestCharts:', error);\n",
              "      }\n",
              "      quickchartButtonEl.classList.remove('colab-df-spinner');\n",
              "      quickchartButtonEl.classList.add('colab-df-quickchart-complete');\n",
              "    }\n",
              "    (() => {\n",
              "      let quickchartButtonEl =\n",
              "        document.querySelector('#df-ae9b6b37-48b8-4bb0-9f87-f5e7785ff93b button');\n",
              "      quickchartButtonEl.style.display =\n",
              "        google.colab.kernel.accessAllowed ? 'block' : 'none';\n",
              "    })();\n",
              "  </script>\n",
              "</div>\n",
              "\n",
              "    </div>\n",
              "  </div>\n"
            ],
            "application/vnd.google.colaboratory.intrinsic+json": {
              "type": "dataframe",
              "summary": "{\n  \"name\": \"data\",\n  \"rows\": 8,\n  \"fields\": [\n    {\n      \"column\": \"Id\",\n      \"properties\": {\n        \"dtype\": \"number\",\n        \"std\": 53.756293020494844,\n        \"min\": 1.0,\n        \"max\": 150.0,\n        \"num_unique_values\": 6,\n        \"samples\": [\n          150.0,\n          75.5,\n          112.75\n        ],\n        \"semantic_type\": \"\",\n        \"description\": \"\"\n      }\n    },\n    {\n      \"column\": \"SepalLengthCm\",\n      \"properties\": {\n        \"dtype\": \"number\",\n        \"std\": 51.24711349471842,\n        \"min\": 0.828066127977863,\n        \"max\": 150.0,\n        \"num_unique_values\": 8,\n        \"samples\": [\n          5.843333333333334,\n          5.8,\n          150.0\n        ],\n        \"semantic_type\": \"\",\n        \"description\": \"\"\n      }\n    },\n    {\n      \"column\": \"SepalWidthCm\",\n      \"properties\": {\n        \"dtype\": \"number\",\n        \"std\": 52.08647211421483,\n        \"min\": 0.4335943113621737,\n        \"max\": 150.0,\n        \"num_unique_values\": 8,\n        \"samples\": [\n          3.0540000000000003,\n          3.0,\n          150.0\n        ],\n        \"semantic_type\": \"\",\n        \"description\": \"\"\n      }\n    },\n    {\n      \"column\": \"PetalLengthCm\",\n      \"properties\": {\n        \"dtype\": \"number\",\n        \"std\": 51.835227940958106,\n        \"min\": 1.0,\n        \"max\": 150.0,\n        \"num_unique_values\": 8,\n        \"samples\": [\n          3.758666666666666,\n          4.35,\n          150.0\n        ],\n        \"semantic_type\": \"\",\n        \"description\": \"\"\n      }\n    },\n    {\n      \"column\": \"PetalWidthCm\",\n      \"properties\": {\n        \"dtype\": \"number\",\n        \"std\": 52.636634243409915,\n        \"min\": 0.1,\n        \"max\": 150.0,\n        \"num_unique_values\": 8,\n        \"samples\": [\n          1.1986666666666668,\n          1.3,\n          150.0\n        ],\n        \"semantic_type\": \"\",\n        \"description\": \"\"\n      }\n    }\n  ]\n}"
            }
          },
          "metadata": {},
          "execution_count": 22
        }
      ]
    },
    {
      "cell_type": "code",
      "source": [
        "data.isnull().sum()"
      ],
      "metadata": {
        "trusted": true,
        "colab": {
          "base_uri": "https://localhost:8080/"
        },
        "id": "zePRtA7duPA4",
        "outputId": "85db7288-809e-4693-db1b-e9f1a2fa0402"
      },
      "execution_count": 23,
      "outputs": [
        {
          "output_type": "execute_result",
          "data": {
            "text/plain": [
              "Id               0\n",
              "SepalLengthCm    0\n",
              "SepalWidthCm     0\n",
              "PetalLengthCm    0\n",
              "PetalWidthCm     0\n",
              "Species          0\n",
              "dtype: int64"
            ]
          },
          "metadata": {},
          "execution_count": 23
        }
      ]
    },
    {
      "cell_type": "code",
      "source": [
        "data.columns"
      ],
      "metadata": {
        "trusted": true,
        "colab": {
          "base_uri": "https://localhost:8080/"
        },
        "id": "1QEz6yX0uPA4",
        "outputId": "3caefc83-1091-47ca-e821-897441336aad"
      },
      "execution_count": 24,
      "outputs": [
        {
          "output_type": "execute_result",
          "data": {
            "text/plain": [
              "Index(['Id', 'SepalLengthCm', 'SepalWidthCm', 'PetalLengthCm', 'PetalWidthCm',\n",
              "       'Species'],\n",
              "      dtype='object')"
            ]
          },
          "metadata": {},
          "execution_count": 24
        }
      ]
    },
    {
      "cell_type": "code",
      "source": [
        "Species= data[\"Species\"]\n",
        "target=[]\n",
        "for m in Species:\n",
        "    if m == \"Iris-setosa\":\n",
        "        target.append(0)\n",
        "    elif m==\"Iris-versicolor\":\n",
        "        target.append(1)\n",
        "    else:\n",
        "        target.append(2)\n",
        "\n",
        "target=torch.tensor(np.array(target))\n",
        "train_target, test_target= target[0:120],target[120:150]\n",
        "train_target, test_target= train_target.long(), test_target.long()\n",
        "test_target.dtype"
      ],
      "metadata": {
        "trusted": true,
        "colab": {
          "base_uri": "https://localhost:8080/"
        },
        "id": "lsz0O1bmuPA4",
        "outputId": "e47c97d0-862f-483b-dff1-d89d2e11f443"
      },
      "execution_count": 25,
      "outputs": [
        {
          "output_type": "execute_result",
          "data": {
            "text/plain": [
              "torch.int64"
            ]
          },
          "metadata": {},
          "execution_count": 25
        }
      ]
    },
    {
      "cell_type": "code",
      "source": [
        "labels = data.drop(columns=['Species'])\n",
        "label0=torch.tensor(labels[\"SepalLengthCm\"].to_numpy()).unsqueeze(1).float()\n",
        "label1=torch.tensor(labels[\"SepalWidthCm\"].to_numpy()).unsqueeze(1).float()\n",
        "label2=torch.tensor(labels[\"PetalLengthCm\"].to_numpy()).unsqueeze(1).float()\n",
        "label3=torch.tensor(labels[\"PetalWidthCm\"].to_numpy()).unsqueeze(1).float()\n",
        "dataset= torch.cat((label1,label2,label3,label3),dim=1)\n",
        "train_dataset, test_dataset= dataset[0:120], dataset[120:150]\n",
        "print(train_dataset)\n",
        "print(\"----------------------------------------------------\")\n",
        "print(test_dataset)"
      ],
      "metadata": {
        "trusted": true,
        "colab": {
          "base_uri": "https://localhost:8080/"
        },
        "id": "M_ygZWbcuPA4",
        "outputId": "37500c5b-1b76-4823-f2cc-069340440f84"
      },
      "execution_count": 26,
      "outputs": [
        {
          "output_type": "stream",
          "name": "stdout",
          "text": [
            "tensor([[2.8000, 4.7000, 1.2000, 1.2000],\n",
            "        [3.8000, 1.7000, 0.3000, 0.3000],\n",
            "        [2.6000, 6.9000, 2.3000, 2.3000],\n",
            "        [2.9000, 4.5000, 1.5000, 1.5000],\n",
            "        [2.8000, 4.8000, 1.4000, 1.4000],\n",
            "        [3.4000, 1.5000, 0.4000, 0.4000],\n",
            "        [2.9000, 3.6000, 1.3000, 1.3000],\n",
            "        [3.1000, 5.1000, 2.3000, 2.3000],\n",
            "        [2.2000, 4.5000, 1.5000, 1.5000],\n",
            "        [2.7000, 3.9000, 1.2000, 1.2000],\n",
            "        [3.2000, 5.1000, 2.0000, 2.0000],\n",
            "        [3.0000, 1.4000, 0.1000, 0.1000],\n",
            "        [3.5000, 1.3000, 0.2000, 0.2000],\n",
            "        [3.1000, 1.5000, 0.1000, 0.1000],\n",
            "        [3.8000, 1.5000, 0.3000, 0.3000],\n",
            "        [3.3000, 4.7000, 1.6000, 1.6000],\n",
            "        [3.0000, 5.8000, 2.2000, 2.2000],\n",
            "        [2.5000, 3.9000, 1.1000, 1.1000],\n",
            "        [2.8000, 4.5000, 1.3000, 1.3000],\n",
            "        [2.8000, 5.6000, 2.2000, 2.2000],\n",
            "        [3.2000, 1.6000, 0.2000, 0.2000],\n",
            "        [3.0000, 4.9000, 1.8000, 1.8000],\n",
            "        [3.4000, 1.6000, 0.4000, 0.4000],\n",
            "        [2.8000, 5.6000, 2.1000, 2.1000],\n",
            "        [3.8000, 6.4000, 2.0000, 2.0000],\n",
            "        [3.0000, 5.2000, 2.3000, 2.3000],\n",
            "        [2.5000, 5.8000, 1.8000, 1.8000],\n",
            "        [3.2000, 5.9000, 2.3000, 2.3000],\n",
            "        [3.0000, 1.4000, 0.3000, 0.3000],\n",
            "        [3.1000, 1.6000, 0.2000, 0.2000],\n",
            "        [3.6000, 1.0000, 0.2000, 0.2000],\n",
            "        [4.4000, 1.5000, 0.4000, 0.4000],\n",
            "        [3.1000, 4.4000, 1.4000, 1.4000],\n",
            "        [3.4000, 1.6000, 0.2000, 0.2000],\n",
            "        [3.2000, 1.3000, 0.2000, 0.2000],\n",
            "        [2.5000, 5.0000, 1.9000, 1.9000],\n",
            "        [3.2000, 4.5000, 1.5000, 1.5000],\n",
            "        [3.5000, 1.5000, 0.2000, 0.2000],\n",
            "        [3.6000, 1.4000, 0.2000, 0.2000],\n",
            "        [4.1000, 1.5000, 0.1000, 0.1000],\n",
            "        [2.7000, 5.1000, 1.9000, 1.9000],\n",
            "        [3.4000, 4.5000, 1.6000, 1.6000],\n",
            "        [3.1000, 4.7000, 1.5000, 1.5000],\n",
            "        [3.9000, 1.3000, 0.4000, 0.4000],\n",
            "        [3.7000, 1.5000, 0.2000, 0.2000],\n",
            "        [2.4000, 3.7000, 1.0000, 1.0000],\n",
            "        [2.8000, 5.1000, 1.5000, 1.5000],\n",
            "        [3.1000, 5.5000, 1.8000, 1.8000],\n",
            "        [3.0000, 4.4000, 1.4000, 1.4000],\n",
            "        [3.6000, 6.1000, 2.5000, 2.5000],\n",
            "        [2.9000, 4.2000, 1.3000, 1.3000],\n",
            "        [3.0000, 6.6000, 2.1000, 2.1000],\n",
            "        [3.0000, 4.5000, 1.5000, 1.5000],\n",
            "        [3.5000, 1.4000, 0.2000, 0.2000],\n",
            "        [2.8000, 6.7000, 2.0000, 2.0000],\n",
            "        [2.7000, 4.1000, 1.0000, 1.0000],\n",
            "        [3.4000, 1.4000, 0.2000, 0.2000],\n",
            "        [3.5000, 1.3000, 0.3000, 0.3000],\n",
            "        [3.8000, 1.9000, 0.4000, 0.4000],\n",
            "        [2.0000, 3.5000, 1.0000, 1.0000],\n",
            "        [2.7000, 4.9000, 1.8000, 1.8000],\n",
            "        [3.4000, 1.9000, 0.2000, 0.2000],\n",
            "        [3.0000, 1.6000, 0.2000, 0.2000],\n",
            "        [3.3000, 1.7000, 0.5000, 0.5000],\n",
            "        [2.7000, 4.2000, 1.3000, 1.3000],\n",
            "        [3.4000, 1.5000, 0.2000, 0.2000],\n",
            "        [3.0000, 4.2000, 1.2000, 1.2000],\n",
            "        [3.8000, 6.7000, 2.2000, 2.2000],\n",
            "        [3.2000, 1.4000, 0.2000, 0.2000],\n",
            "        [2.9000, 4.3000, 1.3000, 1.3000],\n",
            "        [2.5000, 5.0000, 2.0000, 2.0000],\n",
            "        [4.2000, 1.4000, 0.2000, 0.2000],\n",
            "        [3.0000, 4.8000, 1.8000, 1.8000],\n",
            "        [2.7000, 5.1000, 1.9000, 1.9000],\n",
            "        [2.2000, 4.0000, 1.0000, 1.0000],\n",
            "        [3.0000, 4.5000, 1.5000, 1.5000],\n",
            "        [3.4000, 5.4000, 2.3000, 2.3000],\n",
            "        [2.3000, 4.0000, 1.3000, 1.3000],\n",
            "        [3.9000, 1.7000, 0.4000, 0.4000],\n",
            "        [2.3000, 3.3000, 1.0000, 1.0000],\n",
            "        [2.7000, 5.3000, 1.9000, 1.9000],\n",
            "        [3.3000, 1.4000, 0.2000, 0.2000],\n",
            "        [3.2000, 1.2000, 0.2000, 0.2000],\n",
            "        [2.4000, 3.8000, 1.1000, 1.1000],\n",
            "        [3.0000, 5.0000, 1.7000, 1.7000],\n",
            "        [3.1000, 1.5000, 0.1000, 0.1000],\n",
            "        [2.8000, 5.1000, 2.4000, 2.4000],\n",
            "        [3.4000, 1.5000, 0.2000, 0.2000],\n",
            "        [3.5000, 1.6000, 0.6000, 0.6000],\n",
            "        [3.2000, 4.8000, 1.8000, 1.8000],\n",
            "        [2.5000, 3.0000, 1.1000, 1.1000],\n",
            "        [3.2000, 5.7000, 2.3000, 2.3000],\n",
            "        [2.7000, 5.1000, 1.6000, 1.6000],\n",
            "        [2.6000, 5.6000, 1.4000, 1.4000],\n",
            "        [3.0000, 6.1000, 2.3000, 2.3000],\n",
            "        [2.5000, 4.0000, 1.3000, 1.3000],\n",
            "        [2.9000, 1.4000, 0.2000, 0.2000],\n",
            "        [3.0000, 1.1000, 0.1000, 0.1000],\n",
            "        [2.2000, 5.0000, 1.5000, 1.5000],\n",
            "        [3.2000, 6.0000, 1.8000, 1.8000],\n",
            "        [3.1000, 1.5000, 0.2000, 0.2000],\n",
            "        [3.5000, 1.4000, 0.3000, 0.3000],\n",
            "        [3.0000, 1.3000, 0.2000, 0.2000],\n",
            "        [2.5000, 4.9000, 1.5000, 1.5000],\n",
            "        [3.4000, 5.6000, 2.4000, 2.4000],\n",
            "        [3.4000, 1.4000, 0.3000, 0.3000],\n",
            "        [3.0000, 5.5000, 2.1000, 2.1000],\n",
            "        [3.3000, 6.0000, 2.5000, 2.5000],\n",
            "        [3.2000, 1.3000, 0.2000, 0.2000],\n",
            "        [2.9000, 4.7000, 1.4000, 1.4000],\n",
            "        [2.8000, 4.6000, 1.5000, 1.5000],\n",
            "        [2.8000, 4.8000, 1.8000, 1.8000],\n",
            "        [3.2000, 4.7000, 1.4000, 1.4000],\n",
            "        [3.2000, 5.3000, 2.3000, 2.3000],\n",
            "        [3.8000, 1.6000, 0.2000, 0.2000],\n",
            "        [3.1000, 5.4000, 2.1000, 2.1000],\n",
            "        [3.0000, 4.2000, 1.5000, 1.5000],\n",
            "        [3.0000, 5.2000, 2.0000, 2.0000],\n",
            "        [2.6000, 3.5000, 1.0000, 1.0000],\n",
            "        [2.7000, 3.9000, 1.4000, 1.4000]])\n",
            "----------------------------------------------------\n",
            "tensor([[3.0000, 4.6000, 1.4000, 1.4000],\n",
            "        [2.3000, 1.3000, 0.3000, 0.3000],\n",
            "        [2.9000, 4.6000, 1.3000, 1.3000],\n",
            "        [2.6000, 4.4000, 1.2000, 1.2000],\n",
            "        [3.7000, 1.5000, 0.2000, 0.2000],\n",
            "        [3.0000, 4.1000, 1.3000, 1.3000],\n",
            "        [2.9000, 6.3000, 1.8000, 1.8000],\n",
            "        [3.3000, 5.7000, 2.1000, 2.1000],\n",
            "        [3.7000, 1.5000, 0.4000, 0.4000],\n",
            "        [2.4000, 3.3000, 1.0000, 1.0000],\n",
            "        [3.3000, 5.7000, 2.5000, 2.5000],\n",
            "        [3.0000, 5.8000, 1.6000, 1.6000],\n",
            "        [3.1000, 1.5000, 0.1000, 0.1000],\n",
            "        [3.1000, 5.6000, 2.4000, 2.4000],\n",
            "        [3.0000, 1.4000, 0.2000, 0.2000],\n",
            "        [3.1000, 4.9000, 1.5000, 1.5000],\n",
            "        [2.8000, 6.1000, 1.9000, 1.9000],\n",
            "        [2.9000, 5.6000, 1.8000, 1.8000],\n",
            "        [2.8000, 4.1000, 1.3000, 1.3000],\n",
            "        [3.0000, 5.5000, 1.8000, 1.8000],\n",
            "        [2.3000, 4.4000, 1.3000, 1.3000],\n",
            "        [2.9000, 4.3000, 1.3000, 1.3000],\n",
            "        [2.8000, 4.9000, 2.0000, 2.0000],\n",
            "        [3.0000, 5.1000, 1.8000, 1.8000],\n",
            "        [3.4000, 1.7000, 0.2000, 0.2000],\n",
            "        [2.8000, 4.0000, 1.3000, 1.3000],\n",
            "        [2.5000, 4.5000, 1.7000, 1.7000],\n",
            "        [4.0000, 1.2000, 0.2000, 0.2000],\n",
            "        [2.6000, 4.0000, 1.2000, 1.2000],\n",
            "        [3.0000, 5.9000, 2.1000, 2.1000]])\n"
          ]
        }
      ]
    },
    {
      "cell_type": "code",
      "source": [
        "print(test_dataset.dtype)"
      ],
      "metadata": {
        "trusted": true,
        "colab": {
          "base_uri": "https://localhost:8080/"
        },
        "id": "YNP2mi5CuPA4",
        "outputId": "58089062-43cc-4583-b04b-a61a59c115aa"
      },
      "execution_count": 27,
      "outputs": [
        {
          "output_type": "stream",
          "name": "stdout",
          "text": [
            "torch.float32\n"
          ]
        }
      ]
    },
    {
      "cell_type": "code",
      "source": [
        "device= torch.device(\"cuda\" if torch.cuda.is_available() else \"cpu\")\n",
        "train_dataset, test_dataset= train_dataset.to(device), test_dataset.to(device)\n",
        "test_dataset.device, train_dataset.device"
      ],
      "metadata": {
        "trusted": true,
        "colab": {
          "base_uri": "https://localhost:8080/"
        },
        "id": "8rIosJCLuPA4",
        "outputId": "625b9d61-1c3e-48b6-e732-ef100c4243f3"
      },
      "execution_count": 28,
      "outputs": [
        {
          "output_type": "execute_result",
          "data": {
            "text/plain": [
              "(device(type='cpu'), device(type='cpu'))"
            ]
          },
          "metadata": {},
          "execution_count": 28
        }
      ]
    },
    {
      "cell_type": "code",
      "source": [
        "train_target.to(device), test_target.to(device)"
      ],
      "metadata": {
        "trusted": true,
        "colab": {
          "base_uri": "https://localhost:8080/"
        },
        "id": "AQcWLtJ3uPA5",
        "outputId": "bfdc50ff-1e96-4064-d8ed-46856ceef301"
      },
      "execution_count": 29,
      "outputs": [
        {
          "output_type": "execute_result",
          "data": {
            "text/plain": [
              "(tensor([1, 0, 2, 1, 1, 0, 1, 2, 1, 1, 2, 0, 0, 0, 0, 1, 2, 1, 1, 2, 0, 2, 0, 2,\n",
              "         2, 2, 2, 2, 0, 0, 0, 0, 1, 0, 0, 2, 1, 0, 0, 0, 2, 1, 1, 0, 0, 1, 2, 2,\n",
              "         1, 2, 1, 2, 1, 0, 2, 1, 0, 0, 0, 1, 2, 0, 0, 0, 1, 0, 1, 2, 0, 1, 2, 0,\n",
              "         2, 2, 1, 1, 2, 1, 0, 1, 2, 0, 0, 1, 1, 0, 2, 0, 0, 1, 1, 2, 1, 2, 2, 1,\n",
              "         0, 0, 2, 2, 0, 0, 0, 1, 2, 0, 2, 2, 0, 1, 1, 2, 1, 2, 0, 2, 1, 2, 1, 1]),\n",
              " tensor([1, 0, 1, 1, 0, 1, 2, 2, 0, 1, 2, 2, 0, 2, 0, 1, 2, 2, 1, 2, 1, 1, 2, 2,\n",
              "         0, 1, 2, 0, 1, 2]))"
            ]
          },
          "metadata": {},
          "execution_count": 29
        }
      ]
    },
    {
      "cell_type": "code",
      "source": [
        "train_target.shape"
      ],
      "metadata": {
        "colab": {
          "base_uri": "https://localhost:8080/"
        },
        "id": "PIEnMmACu11L",
        "outputId": "ce8e2fcb-f3be-4f77-aafe-2c4bd68578dc"
      },
      "execution_count": 30,
      "outputs": [
        {
          "output_type": "execute_result",
          "data": {
            "text/plain": [
              "torch.Size([120])"
            ]
          },
          "metadata": {},
          "execution_count": 30
        }
      ]
    },
    {
      "cell_type": "code",
      "source": [
        "test_dataset.size()"
      ],
      "metadata": {
        "trusted": true,
        "colab": {
          "base_uri": "https://localhost:8080/"
        },
        "id": "tJyc_b2cuPA5",
        "outputId": "a3da52a1-7391-4793-ca6f-fac82ce7d0d4"
      },
      "execution_count": 31,
      "outputs": [
        {
          "output_type": "execute_result",
          "data": {
            "text/plain": [
              "torch.Size([30, 4])"
            ]
          },
          "metadata": {},
          "execution_count": 31
        }
      ]
    },
    {
      "cell_type": "code",
      "source": [
        "class IrisModel(nn.Module):\n",
        "  def __init__(self, in_features: int, hidden_units: int, out_features: int):\n",
        "    super().__init__()\n",
        "    self.layer_stack = nn.Sequential(\n",
        "        nn.Linear(in_features=in_features, out_features=hidden_units),\n",
        "        nn.Linear(in_features=hidden_units, out_features=hidden_units),\n",
        "        nn.Linear(in_features=hidden_units, out_features=out_features),\n",
        "    )\n",
        "\n",
        "\n",
        "  def forward(self,x):\n",
        "    return self.layer_stack(x)"
      ],
      "metadata": {
        "trusted": true,
        "id": "qQeaom1XuPA5"
      },
      "execution_count": 32,
      "outputs": []
    },
    {
      "cell_type": "code",
      "source": [
        "torch.manual_seed(42)\n",
        "model0= IrisModel(4,10,3).to(device)\n",
        "next(model0.parameters())"
      ],
      "metadata": {
        "trusted": true,
        "colab": {
          "base_uri": "https://localhost:8080/"
        },
        "id": "-ecMZe7JuPA5",
        "outputId": "4b1d94df-fc45-4e5b-93a8-86904eb1c771"
      },
      "execution_count": 33,
      "outputs": [
        {
          "output_type": "execute_result",
          "data": {
            "text/plain": [
              "Parameter containing:\n",
              "tensor([[ 0.3823,  0.4150, -0.1171,  0.4593],\n",
              "        [-0.1096,  0.1009, -0.2434,  0.2936],\n",
              "        [ 0.4408, -0.3668,  0.4346,  0.0936],\n",
              "        [ 0.3694,  0.0677,  0.2411, -0.0706],\n",
              "        [ 0.3854,  0.0739, -0.2334,  0.1274],\n",
              "        [-0.2304, -0.0586, -0.2031,  0.3317],\n",
              "        [-0.3947, -0.2305, -0.1412, -0.3006],\n",
              "        [ 0.0472, -0.4938,  0.4516, -0.4247],\n",
              "        [ 0.3860,  0.0832, -0.1624,  0.3090],\n",
              "        [ 0.0779,  0.4040,  0.0547, -0.1577]], requires_grad=True)"
            ]
          },
          "metadata": {},
          "execution_count": 33
        }
      ]
    },
    {
      "cell_type": "code",
      "source": [
        "import requests\n",
        "request = requests.get(\"https://raw.githubusercontent.com/mrdbourke/pytorch-deep-learning/main/helper_functions.py\")\n",
        "with open(\"helper_functions.py\", \"wb\") as f:\n",
        "  f.write(request.content)\n",
        "\n",
        "from helper_functions import accuracy_fn"
      ],
      "metadata": {
        "id": "6uVeqs3OAhSB"
      },
      "execution_count": 34,
      "outputs": []
    },
    {
      "cell_type": "code",
      "source": [
        "lossFn= nn.CrossEntropyLoss()\n",
        "optimizer= torch.optim.SGD(model0.parameters(), lr=0.01)\n",
        "\n",
        "torch.manual_seed(42)\n",
        "epochs= 750\n",
        "\n",
        "for epoch in range(epochs):\n",
        "    model0.train()\n",
        "    train_pred=model0(train_dataset)\n",
        "    train_loss=lossFn(train_pred,train_target)\n",
        "    optimizer.zero_grad()\n",
        "    train_loss.backward()\n",
        "    optimizer.step()\n",
        "\n",
        "    with torch.inference_mode():\n",
        "        model0.eval()\n",
        "        test_pred=model0(test_dataset)\n",
        "        test_loss=lossFn(test_pred,test_target)\n",
        "        acc= accuracy_fn(test_pred.argmax(dim=1),test_target)\n",
        "\n",
        "    if epoch%20==0:\n",
        "        print(f\"{epoch}.epoch>>> train loss:{train_loss:.4f}----test loss:{test_loss:.4f}----{acc:.2f}%\")\n",
        "\n"
      ],
      "metadata": {
        "trusted": true,
        "colab": {
          "base_uri": "https://localhost:8080/"
        },
        "id": "7jmdaBB6uPA6",
        "outputId": "c67defd5-a73e-42c2-d556-c332013f6053"
      },
      "execution_count": 35,
      "outputs": [
        {
          "output_type": "stream",
          "name": "stdout",
          "text": [
            "0.epoch>>> train loss:1.3534----test loss:1.3858----36.67%\n",
            "20.epoch>>> train loss:1.0414----test loss:1.0398----40.00%\n",
            "40.epoch>>> train loss:0.9754----test loss:0.9666----50.00%\n",
            "60.epoch>>> train loss:0.9141----test loss:0.9123----63.33%\n",
            "80.epoch>>> train loss:0.8458----test loss:0.8562----63.33%\n",
            "100.epoch>>> train loss:0.7729----test loss:0.7970----63.33%\n",
            "120.epoch>>> train loss:0.7018----test loss:0.7384----63.33%\n",
            "140.epoch>>> train loss:0.6383----test loss:0.6848----63.33%\n",
            "160.epoch>>> train loss:0.5855----test loss:0.6392----63.33%\n",
            "180.epoch>>> train loss:0.5432----test loss:0.6014----63.33%\n",
            "200.epoch>>> train loss:0.5095----test loss:0.5703----63.33%\n",
            "220.epoch>>> train loss:0.4821----test loss:0.5442----70.00%\n",
            "240.epoch>>> train loss:0.4594----test loss:0.5218----80.00%\n",
            "260.epoch>>> train loss:0.4399----test loss:0.5018----83.33%\n",
            "280.epoch>>> train loss:0.4226----test loss:0.4837----90.00%\n",
            "300.epoch>>> train loss:0.4070----test loss:0.4667----90.00%\n",
            "320.epoch>>> train loss:0.3925----test loss:0.4507----93.33%\n",
            "340.epoch>>> train loss:0.3788----test loss:0.4352----96.67%\n",
            "360.epoch>>> train loss:0.3658----test loss:0.4202----96.67%\n",
            "380.epoch>>> train loss:0.3532----test loss:0.4055----96.67%\n",
            "400.epoch>>> train loss:0.3411----test loss:0.3911----96.67%\n",
            "420.epoch>>> train loss:0.3293----test loss:0.3770----96.67%\n",
            "440.epoch>>> train loss:0.3179----test loss:0.3631----96.67%\n",
            "460.epoch>>> train loss:0.3067----test loss:0.3495----96.67%\n",
            "480.epoch>>> train loss:0.2959----test loss:0.3362----96.67%\n",
            "500.epoch>>> train loss:0.2855----test loss:0.3233----96.67%\n",
            "520.epoch>>> train loss:0.2754----test loss:0.3107----96.67%\n",
            "540.epoch>>> train loss:0.2657----test loss:0.2985----96.67%\n",
            "560.epoch>>> train loss:0.2565----test loss:0.2867----96.67%\n",
            "580.epoch>>> train loss:0.2476----test loss:0.2754----96.67%\n",
            "600.epoch>>> train loss:0.2391----test loss:0.2646----96.67%\n",
            "620.epoch>>> train loss:0.2311----test loss:0.2542----96.67%\n",
            "640.epoch>>> train loss:0.2234----test loss:0.2443----96.67%\n",
            "660.epoch>>> train loss:0.2162----test loss:0.2350----96.67%\n",
            "680.epoch>>> train loss:0.2094----test loss:0.2261----96.67%\n",
            "700.epoch>>> train loss:0.2030----test loss:0.2177----96.67%\n",
            "720.epoch>>> train loss:0.1970----test loss:0.2098----96.67%\n",
            "740.epoch>>> train loss:0.1914----test loss:0.2023----96.67%\n"
          ]
        }
      ]
    },
    {
      "cell_type": "code",
      "source": [],
      "metadata": {
        "id": "DXJ1A7UmuPA6"
      },
      "execution_count": 35,
      "outputs": []
    }
  ]
}