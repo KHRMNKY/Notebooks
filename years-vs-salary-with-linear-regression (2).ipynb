{
 "cells": [
  {
   "cell_type": "code",
   "execution_count": 1,
   "id": "541bdd50",
   "metadata": {
    "execution": {
     "iopub.execute_input": "2024-05-23T13:15:23.493272Z",
     "iopub.status.busy": "2024-05-23T13:15:23.492791Z",
     "iopub.status.idle": "2024-05-23T13:15:30.365154Z",
     "shell.execute_reply": "2024-05-23T13:15:30.363810Z"
    },
    "papermill": {
     "duration": 6.886291,
     "end_time": "2024-05-23T13:15:30.368313",
     "exception": false,
     "start_time": "2024-05-23T13:15:23.482022",
     "status": "completed"
    },
    "tags": []
   },
   "outputs": [],
   "source": [
    "\n",
    "import torch\n",
    "from torch import nn\n",
    "import seaborn as sns\n",
    "import pandas as pd\n",
    "import matplotlib.pyplot  as plt"
   ]
  },
  {
   "cell_type": "markdown",
   "id": "262238fa",
   "metadata": {
    "papermill": {
     "duration": 0.007784,
     "end_time": "2024-05-23T13:15:30.384803",
     "exception": false,
     "start_time": "2024-05-23T13:15:30.377019",
     "status": "completed"
    },
    "tags": []
   },
   "source": [
    "Öncelikle datamızı pandas kütüphanesi ile okuyalım."
   ]
  },
  {
   "cell_type": "code",
   "execution_count": 2,
   "id": "2d79e56b",
   "metadata": {
    "execution": {
     "iopub.execute_input": "2024-05-23T13:15:30.402790Z",
     "iopub.status.busy": "2024-05-23T13:15:30.402201Z",
     "iopub.status.idle": "2024-05-23T13:15:30.455980Z",
     "shell.execute_reply": "2024-05-23T13:15:30.454846Z"
    },
    "papermill": {
     "duration": 0.065836,
     "end_time": "2024-05-23T13:15:30.458578",
     "exception": false,
     "start_time": "2024-05-23T13:15:30.392742",
     "status": "completed"
    },
    "tags": []
   },
   "outputs": [
    {
     "data": {
      "text/html": [
       "<div>\n",
       "<style scoped>\n",
       "    .dataframe tbody tr th:only-of-type {\n",
       "        vertical-align: middle;\n",
       "    }\n",
       "\n",
       "    .dataframe tbody tr th {\n",
       "        vertical-align: top;\n",
       "    }\n",
       "\n",
       "    .dataframe thead th {\n",
       "        text-align: right;\n",
       "    }\n",
       "</style>\n",
       "<table border=\"1\" class=\"dataframe\">\n",
       "  <thead>\n",
       "    <tr style=\"text-align: right;\">\n",
       "      <th></th>\n",
       "      <th>YearsExperience</th>\n",
       "      <th>Salary</th>\n",
       "    </tr>\n",
       "  </thead>\n",
       "  <tbody>\n",
       "    <tr>\n",
       "      <th>0</th>\n",
       "      <td>1.1</td>\n",
       "      <td>39343.0</td>\n",
       "    </tr>\n",
       "    <tr>\n",
       "      <th>1</th>\n",
       "      <td>1.3</td>\n",
       "      <td>46205.0</td>\n",
       "    </tr>\n",
       "    <tr>\n",
       "      <th>2</th>\n",
       "      <td>1.5</td>\n",
       "      <td>37731.0</td>\n",
       "    </tr>\n",
       "    <tr>\n",
       "      <th>3</th>\n",
       "      <td>2.0</td>\n",
       "      <td>43525.0</td>\n",
       "    </tr>\n",
       "    <tr>\n",
       "      <th>4</th>\n",
       "      <td>2.2</td>\n",
       "      <td>39891.0</td>\n",
       "    </tr>\n",
       "    <tr>\n",
       "      <th>5</th>\n",
       "      <td>2.9</td>\n",
       "      <td>56642.0</td>\n",
       "    </tr>\n",
       "    <tr>\n",
       "      <th>6</th>\n",
       "      <td>3.0</td>\n",
       "      <td>60150.0</td>\n",
       "    </tr>\n",
       "    <tr>\n",
       "      <th>7</th>\n",
       "      <td>3.2</td>\n",
       "      <td>54445.0</td>\n",
       "    </tr>\n",
       "    <tr>\n",
       "      <th>8</th>\n",
       "      <td>3.2</td>\n",
       "      <td>64445.0</td>\n",
       "    </tr>\n",
       "    <tr>\n",
       "      <th>9</th>\n",
       "      <td>3.7</td>\n",
       "      <td>57189.0</td>\n",
       "    </tr>\n",
       "    <tr>\n",
       "      <th>10</th>\n",
       "      <td>3.9</td>\n",
       "      <td>63218.0</td>\n",
       "    </tr>\n",
       "    <tr>\n",
       "      <th>11</th>\n",
       "      <td>4.0</td>\n",
       "      <td>55794.0</td>\n",
       "    </tr>\n",
       "    <tr>\n",
       "      <th>12</th>\n",
       "      <td>4.0</td>\n",
       "      <td>56957.0</td>\n",
       "    </tr>\n",
       "    <tr>\n",
       "      <th>13</th>\n",
       "      <td>4.1</td>\n",
       "      <td>57081.0</td>\n",
       "    </tr>\n",
       "    <tr>\n",
       "      <th>14</th>\n",
       "      <td>4.5</td>\n",
       "      <td>61111.0</td>\n",
       "    </tr>\n",
       "    <tr>\n",
       "      <th>15</th>\n",
       "      <td>4.9</td>\n",
       "      <td>67938.0</td>\n",
       "    </tr>\n",
       "    <tr>\n",
       "      <th>16</th>\n",
       "      <td>5.1</td>\n",
       "      <td>66029.0</td>\n",
       "    </tr>\n",
       "    <tr>\n",
       "      <th>17</th>\n",
       "      <td>5.3</td>\n",
       "      <td>83088.0</td>\n",
       "    </tr>\n",
       "    <tr>\n",
       "      <th>18</th>\n",
       "      <td>5.9</td>\n",
       "      <td>81363.0</td>\n",
       "    </tr>\n",
       "    <tr>\n",
       "      <th>19</th>\n",
       "      <td>6.0</td>\n",
       "      <td>93940.0</td>\n",
       "    </tr>\n",
       "    <tr>\n",
       "      <th>20</th>\n",
       "      <td>6.8</td>\n",
       "      <td>91738.0</td>\n",
       "    </tr>\n",
       "    <tr>\n",
       "      <th>21</th>\n",
       "      <td>7.1</td>\n",
       "      <td>98273.0</td>\n",
       "    </tr>\n",
       "    <tr>\n",
       "      <th>22</th>\n",
       "      <td>7.9</td>\n",
       "      <td>101302.0</td>\n",
       "    </tr>\n",
       "    <tr>\n",
       "      <th>23</th>\n",
       "      <td>8.2</td>\n",
       "      <td>113812.0</td>\n",
       "    </tr>\n",
       "    <tr>\n",
       "      <th>24</th>\n",
       "      <td>8.7</td>\n",
       "      <td>109431.0</td>\n",
       "    </tr>\n",
       "    <tr>\n",
       "      <th>25</th>\n",
       "      <td>9.0</td>\n",
       "      <td>105582.0</td>\n",
       "    </tr>\n",
       "    <tr>\n",
       "      <th>26</th>\n",
       "      <td>9.5</td>\n",
       "      <td>116969.0</td>\n",
       "    </tr>\n",
       "    <tr>\n",
       "      <th>27</th>\n",
       "      <td>9.6</td>\n",
       "      <td>112635.0</td>\n",
       "    </tr>\n",
       "    <tr>\n",
       "      <th>28</th>\n",
       "      <td>10.3</td>\n",
       "      <td>122391.0</td>\n",
       "    </tr>\n",
       "    <tr>\n",
       "      <th>29</th>\n",
       "      <td>10.5</td>\n",
       "      <td>121872.0</td>\n",
       "    </tr>\n",
       "  </tbody>\n",
       "</table>\n",
       "</div>"
      ],
      "text/plain": [
       "    YearsExperience    Salary\n",
       "0               1.1   39343.0\n",
       "1               1.3   46205.0\n",
       "2               1.5   37731.0\n",
       "3               2.0   43525.0\n",
       "4               2.2   39891.0\n",
       "5               2.9   56642.0\n",
       "6               3.0   60150.0\n",
       "7               3.2   54445.0\n",
       "8               3.2   64445.0\n",
       "9               3.7   57189.0\n",
       "10              3.9   63218.0\n",
       "11              4.0   55794.0\n",
       "12              4.0   56957.0\n",
       "13              4.1   57081.0\n",
       "14              4.5   61111.0\n",
       "15              4.9   67938.0\n",
       "16              5.1   66029.0\n",
       "17              5.3   83088.0\n",
       "18              5.9   81363.0\n",
       "19              6.0   93940.0\n",
       "20              6.8   91738.0\n",
       "21              7.1   98273.0\n",
       "22              7.9  101302.0\n",
       "23              8.2  113812.0\n",
       "24              8.7  109431.0\n",
       "25              9.0  105582.0\n",
       "26              9.5  116969.0\n",
       "27              9.6  112635.0\n",
       "28             10.3  122391.0\n",
       "29             10.5  121872.0"
      ]
     },
     "execution_count": 2,
     "metadata": {},
     "output_type": "execute_result"
    }
   ],
   "source": [
    "dataset = pd.read_csv(\"/kaggle/input/salary-data-simple-linear-regression/Salary_Data.csv\")\n",
    "dataset\n"
   ]
  },
  {
   "cell_type": "markdown",
   "id": "19898655",
   "metadata": {
    "papermill": {
     "duration": 0.00881,
     "end_time": "2024-05-23T13:15:30.475780",
     "exception": false,
     "start_time": "2024-05-23T13:15:30.466970",
     "status": "completed"
    },
    "tags": []
   },
   "source": [
    "yukarda ki data ile modeli eğiteceğimden şimdiden datayı karıştırıyorum. Böylece model daha iyi öğrenmiş olacak"
   ]
  },
  {
   "cell_type": "code",
   "execution_count": 3,
   "id": "a32ce4be",
   "metadata": {
    "execution": {
     "iopub.execute_input": "2024-05-23T13:15:30.495180Z",
     "iopub.status.busy": "2024-05-23T13:15:30.494744Z",
     "iopub.status.idle": "2024-05-23T13:15:30.516348Z",
     "shell.execute_reply": "2024-05-23T13:15:30.514572Z"
    },
    "papermill": {
     "duration": 0.035183,
     "end_time": "2024-05-23T13:15:30.519750",
     "exception": false,
     "start_time": "2024-05-23T13:15:30.484567",
     "status": "completed"
    },
    "tags": []
   },
   "outputs": [
    {
     "name": "stdout",
     "output_type": "stream",
     "text": [
      "    YearsExperience    Salary\n",
      "0               8.2  113812.0\n",
      "1               7.9  101302.0\n",
      "2               1.3   46205.0\n",
      "3               5.9   81363.0\n",
      "4               6.8   91738.0\n",
      "5               8.7  109431.0\n",
      "6               2.9   56642.0\n",
      "7               2.0   43525.0\n",
      "8               9.5  116969.0\n",
      "9               9.0  105582.0\n",
      "10              3.0   60150.0\n",
      "11              4.0   56957.0\n",
      "12              5.1   66029.0\n",
      "13              1.5   37731.0\n",
      "14              1.1   39343.0\n",
      "15              4.0   55794.0\n",
      "16             10.3  122391.0\n",
      "17              7.1   98273.0\n",
      "18              3.2   54445.0\n",
      "19              9.6  112635.0\n",
      "20              3.7   57189.0\n",
      "21              6.0   93940.0\n",
      "22              3.9   63218.0\n",
      "23             10.5  121872.0\n",
      "24              4.5   61111.0\n",
      "25              3.2   64445.0\n",
      "26              4.1   57081.0\n",
      "27              2.2   39891.0\n",
      "28              5.3   83088.0\n",
      "29              4.9   67938.0\n"
     ]
    }
   ],
   "source": [
    "dataset = dataset.sample(frac=1).reset_index(drop=True)\n",
    "\n",
    "print(dataset)"
   ]
  },
  {
   "cell_type": "markdown",
   "id": "73bc4969",
   "metadata": {
    "papermill": {
     "duration": 0.008252,
     "end_time": "2024-05-23T13:15:30.536791",
     "exception": false,
     "start_time": "2024-05-23T13:15:30.528539",
     "status": "completed"
    },
    "tags": []
   },
   "source": [
    "Ek olarak datamızın nasıl dağıldığını görmek için görselleştirelim."
   ]
  },
  {
   "cell_type": "code",
   "execution_count": 4,
   "id": "165ddf05",
   "metadata": {
    "execution": {
     "iopub.execute_input": "2024-05-23T13:15:30.556646Z",
     "iopub.status.busy": "2024-05-23T13:15:30.556174Z",
     "iopub.status.idle": "2024-05-23T13:15:31.167873Z",
     "shell.execute_reply": "2024-05-23T13:15:31.166692Z"
    },
    "papermill": {
     "duration": 0.625032,
     "end_time": "2024-05-23T13:15:31.170916",
     "exception": false,
     "start_time": "2024-05-23T13:15:30.545884",
     "status": "completed"
    },
    "tags": []
   },
   "outputs": [
    {
     "name": "stdout",
     "output_type": "stream",
     "text": [
      "<seaborn.axisgrid.FacetGrid object at 0x7f1a9bfebf40>\n"
     ]
    },
    {
     "data": {
      "image/png": "[encoded data removed]",
      "text/plain": [
       "<Figure size 500x500 with 1 Axes>"
      ]
     },
     "metadata": {},
     "output_type": "display_data"
    }
   ],
   "source": [
    "print(sns.lmplot(y=\"Salary\", x=\"YearsExperience\",data=dataset))\n"
   ]
  },
  {
   "cell_type": "markdown",
   "id": "b3da4609",
   "metadata": {
    "papermill": {
     "duration": 0.009195,
     "end_time": "2024-05-23T13:15:31.189533",
     "exception": false,
     "start_time": "2024-05-23T13:15:31.180338",
     "status": "completed"
    },
    "tags": []
   },
   "source": [
    "Şimdi de elimizde ki datanın bir kısmı ile modeli eğitip diğer kısmı ile modeli test etmek için datamızı %80 train ve %20 test verisi olmak üzere ayıralım."
   ]
  },
  {
   "cell_type": "code",
   "execution_count": 5,
   "id": "e0bd3785",
   "metadata": {
    "execution": {
     "iopub.execute_input": "2024-05-23T13:15:31.211092Z",
     "iopub.status.busy": "2024-05-23T13:15:31.210687Z",
     "iopub.status.idle": "2024-05-23T13:15:31.222560Z",
     "shell.execute_reply": "2024-05-23T13:15:31.221216Z"
    },
    "papermill": {
     "duration": 0.026627,
     "end_time": "2024-05-23T13:15:31.225714",
     "exception": false,
     "start_time": "2024-05-23T13:15:31.199087",
     "status": "completed"
    },
    "tags": []
   },
   "outputs": [
    {
     "name": "stdout",
     "output_type": "stream",
     "text": [
      "0     113812.0\n",
      "1     101302.0\n",
      "2      46205.0\n",
      "3      81363.0\n",
      "4      91738.0\n",
      "5     109431.0\n",
      "6      56642.0\n",
      "7      43525.0\n",
      "8     116969.0\n",
      "9     105582.0\n",
      "10     60150.0\n",
      "11     56957.0\n",
      "12     66029.0\n",
      "13     37731.0\n",
      "14     39343.0\n",
      "15     55794.0\n",
      "16    122391.0\n",
      "17     98273.0\n",
      "18     54445.0\n",
      "19    112635.0\n",
      "20     57189.0\n",
      "21     93940.0\n",
      "22     63218.0\n",
      "23    121872.0\n",
      "Name: Salary, dtype: float64\n",
      "-------------------------------------\n",
      "24    61111.0\n",
      "25    64445.0\n",
      "26    57081.0\n",
      "27    39891.0\n",
      "28    83088.0\n",
      "29    67938.0\n",
      "Name: Salary, dtype: float64\n"
     ]
    }
   ],
   "source": [
    "num= len(dataset[\"Salary\"])\n",
    "num80= int(num*0.8)\n",
    "Salary_train= dataset[\"Salary\"][0:num80]\n",
    "Salary_test= dataset[\"Salary\"][num80:]\n",
    "year_train= dataset[\"YearsExperience\"][0:num80]\n",
    "year_test= dataset[\"YearsExperience\"][num80:]\n",
    "print(Salary_train)\n",
    "print(\"-------------------------------------\")\n",
    "print(Salary_test)"
   ]
  },
  {
   "cell_type": "markdown",
   "id": "a5c333d5",
   "metadata": {
    "papermill": {
     "duration": 0.009066,
     "end_time": "2024-05-23T13:15:31.245544",
     "exception": false,
     "start_time": "2024-05-23T13:15:31.236478",
     "status": "completed"
    },
    "tags": []
   },
   "source": [
    "yukarda ki veriyi(pandas arrayi) önce numpy'a burdan da tensore atayalım. çünkü model oluştururken sinir ağları tensörler ile çalışır. Bundan dolayı verilerimizin tensör içinde olması gerekir."
   ]
  },
  {
   "cell_type": "code",
   "execution_count": 6,
   "id": "62502d6c",
   "metadata": {
    "execution": {
     "iopub.execute_input": "2024-05-23T13:15:31.266861Z",
     "iopub.status.busy": "2024-05-23T13:15:31.266346Z",
     "iopub.status.idle": "2024-05-23T13:15:31.386789Z",
     "shell.execute_reply": "2024-05-23T13:15:31.385469Z"
    },
    "papermill": {
     "duration": 0.134969,
     "end_time": "2024-05-23T13:15:31.389927",
     "exception": false,
     "start_time": "2024-05-23T13:15:31.254958",
     "status": "completed"
    },
    "tags": []
   },
   "outputs": [
    {
     "data": {
      "text/plain": [
       "tensor([[4.5000],\n",
       "        [3.2000],\n",
       "        [4.1000],\n",
       "        [2.2000],\n",
       "        [5.3000],\n",
       "        [4.9000]])"
      ]
     },
     "execution_count": 6,
     "metadata": {},
     "output_type": "execute_result"
    }
   ],
   "source": [
    "Salary_train_tensor= torch.Tensor(Salary_train.to_numpy()).unsqueeze(1)\n",
    "Salary_test_tensor= torch.Tensor(Salary_test.to_numpy()).unsqueeze(1)\n",
    "year_train_tensor= torch.Tensor(year_train.to_numpy()).unsqueeze(1)\n",
    "year_test_tensor= torch.Tensor(year_test.to_numpy()).unsqueeze(1)\n",
    "\n",
    "year_test_tensor"
   ]
  },
  {
   "cell_type": "markdown",
   "id": "31303a30",
   "metadata": {
    "papermill": {
     "duration": 0.00933,
     "end_time": "2024-05-23T13:15:31.409170",
     "exception": false,
     "start_time": "2024-05-23T13:15:31.399840",
     "status": "completed"
    },
    "tags": []
   },
   "source": [
    "Eğitilmemiş modeli oluşturalım önce."
   ]
  },
  {
   "cell_type": "code",
   "execution_count": 7,
   "id": "7a970a43",
   "metadata": {
    "execution": {
     "iopub.execute_input": "2024-05-23T13:15:31.431126Z",
     "iopub.status.busy": "2024-05-23T13:15:31.430710Z",
     "iopub.status.idle": "2024-05-23T13:15:31.438794Z",
     "shell.execute_reply": "2024-05-23T13:15:31.437423Z"
    },
    "papermill": {
     "duration": 0.022017,
     "end_time": "2024-05-23T13:15:31.441313",
     "exception": false,
     "start_time": "2024-05-23T13:15:31.419296",
     "status": "completed"
    },
    "tags": []
   },
   "outputs": [],
   "source": [
    "class LinearRegressionModel(nn.Module):\n",
    "  def __init__(self):\n",
    "    super().__init__()\n",
    "    self.linear_layer_1=nn.Linear(in_features=1,\n",
    "                      out_features=5)\n",
    "    self.linear_layer_2=nn.Linear(in_features=5,\n",
    "                                out_features=1)\n",
    "\n",
    "  def forward(self, x: torch.Tensor):\n",
    "    return self.linear_layer_2(self.linear_layer_1(x))"
   ]
  },
  {
   "cell_type": "markdown",
   "id": "42549fd9",
   "metadata": {
    "papermill": {
     "duration": 0.00922,
     "end_time": "2024-05-23T13:15:31.460291",
     "exception": false,
     "start_time": "2024-05-23T13:15:31.451071",
     "status": "completed"
    },
    "tags": []
   },
   "source": [
    "Bir model örneği oluşturalım."
   ]
  },
  {
   "cell_type": "code",
   "execution_count": 8,
   "id": "c4077760",
   "metadata": {
    "execution": {
     "iopub.execute_input": "2024-05-23T13:15:31.482198Z",
     "iopub.status.busy": "2024-05-23T13:15:31.481797Z",
     "iopub.status.idle": "2024-05-23T13:15:31.497258Z",
     "shell.execute_reply": "2024-05-23T13:15:31.495816Z"
    },
    "papermill": {
     "duration": 0.029939,
     "end_time": "2024-05-23T13:15:31.500333",
     "exception": false,
     "start_time": "2024-05-23T13:15:31.470394",
     "status": "completed"
    },
    "tags": []
   },
   "outputs": [],
   "source": [
    "torch.manual_seed(4)\n",
    "model= LinearRegressionModel()"
   ]
  },
  {
   "cell_type": "markdown",
   "id": "315c2b56",
   "metadata": {
    "papermill": {
     "duration": 0.009227,
     "end_time": "2024-05-23T13:15:31.519276",
     "exception": false,
     "start_time": "2024-05-23T13:15:31.510049",
     "status": "completed"
    },
    "tags": []
   },
   "source": [
    "model için loss ve optimizer lazım bunları belirtelim ve de learning rate(lr) oranımızı da belirtelim."
   ]
  },
  {
   "cell_type": "code",
   "execution_count": 9,
   "id": "e864cbf6",
   "metadata": {
    "execution": {
     "iopub.execute_input": "2024-05-23T13:15:31.540099Z",
     "iopub.status.busy": "2024-05-23T13:15:31.539585Z",
     "iopub.status.idle": "2024-05-23T13:15:35.007631Z",
     "shell.execute_reply": "2024-05-23T13:15:35.006014Z"
    },
    "papermill": {
     "duration": 3.482992,
     "end_time": "2024-05-23T13:15:35.011781",
     "exception": false,
     "start_time": "2024-05-23T13:15:31.528789",
     "status": "completed"
    },
    "tags": []
   },
   "outputs": [],
   "source": [
    "\n",
    "loss_fn= nn.L1Loss()\n",
    "optimizer= torch.optim.SGD(model.parameters(), lr=0.01)"
   ]
  },
  {
   "cell_type": "markdown",
   "id": "90bbec76",
   "metadata": {
    "papermill": {
     "duration": 0.010141,
     "end_time": "2024-05-23T13:15:35.033255",
     "exception": false,
     "start_time": "2024-05-23T13:15:35.023114",
     "status": "completed"
    },
    "tags": []
   },
   "source": [
    "Belirlediğimiz epoch boyunca modelimizi train datamız üzerinde eğitelim ve çıktı olarak train, test kayıplarımıza bakalım. Böylece model kayıbı azalıp azalmadığını görelim."
   ]
  },
  {
   "cell_type": "code",
   "execution_count": 10,
   "id": "3b9fc50d",
   "metadata": {
    "execution": {
     "iopub.execute_input": "2024-05-23T13:15:35.061291Z",
     "iopub.status.busy": "2024-05-23T13:15:35.059859Z",
     "iopub.status.idle": "2024-05-23T13:15:36.256158Z",
     "shell.execute_reply": "2024-05-23T13:15:36.254489Z"
    },
    "papermill": {
     "duration": 1.215576,
     "end_time": "2024-05-23T13:15:36.260327",
     "exception": false,
     "start_time": "2024-05-23T13:15:35.044751",
     "status": "completed"
    },
    "tags": []
   },
   "outputs": [
    {
     "name": "stdout",
     "output_type": "stream",
     "text": [
      "0--epoch   train loss:79440----test loss:62259\n",
      "100--epoch   train loss:10495----test loss:9511\n",
      "200--epoch   train loss:8722----test loss:6652\n",
      "300--epoch   train loss:6832----test loss:5674\n",
      "400--epoch   train loss:5096----test loss:5560\n",
      "500--epoch   train loss:5920----test loss:6168\n",
      "600--epoch   train loss:5364----test loss:6098\n",
      "700--epoch   train loss:5614----test loss:6289\n",
      "800--epoch   train loss:5568----test loss:6303\n",
      "900--epoch   train loss:5339----test loss:6253\n",
      "1000--epoch   train loss:5412----test loss:6310\n",
      "1100--epoch   train loss:4972----test loss:6154\n",
      "1200--epoch   train loss:5144----test loss:6236\n",
      "1300--epoch   train loss:5015----test loss:6199\n",
      "1400--epoch   train loss:4848----test loss:6143\n"
     ]
    }
   ],
   "source": [
    "train_losses= []\n",
    "test_losses=[]\n",
    "\n",
    "epochs= 1500\n",
    "\n",
    "for epoch in range(epochs):\n",
    "  #model train\n",
    "  model.train()\n",
    "  train_pred= model(year_train_tensor)\n",
    "  train_loss= loss_fn(train_pred, Salary_train_tensor)\n",
    "  optimizer.zero_grad()\n",
    "  train_loss.backward()\n",
    "  optimizer.step()\n",
    "\n",
    "  #model test\n",
    "  model.eval()\n",
    "  with torch.inference_mode():\n",
    "    test_pred= model(year_test_tensor)\n",
    "    test_loss= loss_fn(test_pred, Salary_test_tensor)\n",
    "\n",
    "    train_losses.append(train_loss.detach().item())\n",
    "    test_losses.append(test_loss.detach().item())\n",
    "\n",
    "\n",
    "    if epoch%100==0:\n",
    "      print(f\"{epoch}--epoch   train loss:{int(train_loss)}----test loss:{int(test_loss)}\")"
   ]
  },
  {
   "cell_type": "markdown",
   "id": "0e7a0c3d",
   "metadata": {
    "papermill": {
     "duration": 0.012356,
     "end_time": "2024-05-23T13:15:36.283935",
     "exception": false,
     "start_time": "2024-05-23T13:15:36.271579",
     "status": "completed"
    },
    "tags": []
   },
   "source": [
    "modele baktığımız zaman kayıplar azalmakta. Bu kayıpları daha iyi görmek için şimdide görselleştirelim."
   ]
  },
  {
   "cell_type": "code",
   "execution_count": 11,
   "id": "56ad2509",
   "metadata": {
    "execution": {
     "iopub.execute_input": "2024-05-23T13:15:36.308415Z",
     "iopub.status.busy": "2024-05-23T13:15:36.307791Z",
     "iopub.status.idle": "2024-05-23T13:15:36.717318Z",
     "shell.execute_reply": "2024-05-23T13:15:36.715748Z"
    },
    "papermill": {
     "duration": 0.426167,
     "end_time": "2024-05-23T13:15:36.721010",
     "exception": false,
     "start_time": "2024-05-23T13:15:36.294843",
     "status": "completed"
    },
    "tags": []
   },
   "outputs": [
    {
     "data": {
      "image/png": "[encoded data removed]",
      "text/plain": [
       "<Figure size 1000x500 with 1 Axes>"
      ]
     },
     "metadata": {},
     "output_type": "display_data"
    }
   ],
   "source": [
    "plt.figure(figsize=(10, 5))\n",
    "plt.plot(train_losses, label='Train Loss')\n",
    "plt.plot(test_losses, label='Test Loss')\n",
    "plt.xlabel('Epoch')\n",
    "plt.ylabel('Loss')\n",
    "plt.title('Training and Testing Losses')\n",
    "plt.legend()\n",
    "plt.show()"
   ]
  },
  {
   "cell_type": "markdown",
   "id": "817bd011",
   "metadata": {
    "papermill": {
     "duration": 0.01119,
     "end_time": "2024-05-23T13:15:36.744179",
     "exception": false,
     "start_time": "2024-05-23T13:15:36.732989",
     "status": "completed"
    },
    "tags": []
   },
   "source": [
    "Modelimizi pathlib kütüphanesini kullanarak kaydedelim."
   ]
  },
  {
   "cell_type": "code",
   "execution_count": 12,
   "id": "4dc68821",
   "metadata": {
    "execution": {
     "iopub.execute_input": "2024-05-23T13:15:36.770083Z",
     "iopub.status.busy": "2024-05-23T13:15:36.769607Z",
     "iopub.status.idle": "2024-05-23T13:15:36.781216Z",
     "shell.execute_reply": "2024-05-23T13:15:36.779357Z"
    },
    "papermill": {
     "duration": 0.028828,
     "end_time": "2024-05-23T13:15:36.784556",
     "exception": false,
     "start_time": "2024-05-23T13:15:36.755728",
     "status": "completed"
    },
    "tags": []
   },
   "outputs": [
    {
     "name": "stdout",
     "output_type": "stream",
     "text": [
      "Model saved to models/linear_regression_model.pth\n"
     ]
    }
   ],
   "source": [
    "import pathlib\n",
    "from pathlib import Path\n",
    "model_dir = pathlib.Path(\"models\")\n",
    "model_dir.mkdir(parents=True, exist_ok=True)\n",
    "model_path = model_dir / \"linear_regression_model.pth\"\n",
    "\n",
    "# Modeli kaydetme\n",
    "torch.save(model.state_dict(), model_path)\n",
    "print(f\"Model saved to {model_path}\")"
   ]
  },
  {
   "cell_type": "markdown",
   "id": "97a1cabb",
   "metadata": {
    "papermill": {
     "duration": 0.012252,
     "end_time": "2024-05-23T13:15:36.808560",
     "exception": false,
     "start_time": "2024-05-23T13:15:36.796308",
     "status": "completed"
    },
    "tags": []
   },
   "source": [
    "şimdi de kaydettiğimiz modelin öğrenmiş olduğu parametreleri yeni bir öodel örneğine atayıp bu yeni model örneği ile tahminler yapalım."
   ]
  },
  {
   "cell_type": "code",
   "execution_count": 13,
   "id": "715b4641",
   "metadata": {
    "execution": {
     "iopub.execute_input": "2024-05-23T13:15:36.833523Z",
     "iopub.status.busy": "2024-05-23T13:15:36.833097Z",
     "iopub.status.idle": "2024-05-23T13:15:36.850131Z",
     "shell.execute_reply": "2024-05-23T13:15:36.848613Z"
    },
    "papermill": {
     "duration": 0.033345,
     "end_time": "2024-05-23T13:15:36.853531",
     "exception": false,
     "start_time": "2024-05-23T13:15:36.820186",
     "status": "completed"
    },
    "tags": []
   },
   "outputs": [
    {
     "name": "stdout",
     "output_type": "stream",
     "text": [
      "------------------predictions-------------------------\n",
      "tensor([[70184.6094],\n",
      "        [57417.3711],\n",
      "        [66256.2344],\n",
      "        [47596.4297],\n",
      "        [78041.3750],\n",
      "        [74112.9922]], grad_fn=<AddmmBackward0>)\n",
      "--------------Salary_test_tensor----------------------\n"
     ]
    },
    {
     "data": {
      "text/plain": [
       "tensor([[61111.],\n",
       "        [64445.],\n",
       "        [57081.],\n",
       "        [39891.],\n",
       "        [83088.],\n",
       "        [67938.]])"
      ]
     },
     "execution_count": 13,
     "metadata": {},
     "output_type": "execute_result"
    }
   ],
   "source": [
    "model_0= LinearRegressionModel()\n",
    "model_0.load_state_dict(torch.load(\"models/linear_regression_model.pth\"))\n",
    "print(\"------------------predictions-------------------------\")\n",
    "print(model_0(year_test_tensor))\n",
    "print(\"--------------Salary_test_tensor----------------------\")\n",
    "Salary_test_tensor"
   ]
  },
  {
   "cell_type": "markdown",
   "id": "673cc1dd",
   "metadata": {
    "papermill": {
     "duration": 0.012062,
     "end_time": "2024-05-23T13:15:36.877500",
     "exception": false,
     "start_time": "2024-05-23T13:15:36.865438",
     "status": "completed"
    },
    "tags": []
   },
   "source": [
    "Şimdi test verisi üzerinde yaptığımız tahminlere baktığımız zaman gerçek test verilerimize çok yakın değerler ama aynısı değil.\n",
    "Çünkü burda model binary bir sınıflandırma yapmıyor bu yüzden doğrudan \n",
    "gerçek veriye eşit olmak yerine ona yakın değerler üretiyor."
   ]
  }
 ],
 "metadata": {
  "kaggle": {
   "accelerator": "none",
   "dataSources": [
    {
     "datasetId": 10624,
     "sourceId": 14867,
     "sourceType": "datasetVersion"
    }
   ],
   "dockerImageVersionId": 30698,
   "isGpuEnabled": false,
   "isInternetEnabled": true,
   "language": "python",
   "sourceType": "notebook"
  },
  "kernelspec": {
   "display_name": "Python 3",
   "language": "python",
   "name": "python3"
  },
  "language_info": {
   "codemirror_mode": {
    "name": "ipython",
    "version": 3
   },
   "file_extension": ".py",
   "mimetype": "text/x-python",
   "name": "python",
   "nbconvert_exporter": "python",
   "pygments_lexer": "ipython3",
   "version": "3.10.13"
  },
  "papermill": {
   "default_parameters": {},
   "duration": 19.270028,
   "end_time": "2024-05-23T13:15:39.384433",
   "environment_variables": {},
   "exception": null,
   "input_path": "__notebook__.ipynb",
   "output_path": "__notebook__.ipynb",
   "parameters": {},
   "start_time": "2024-05-23T13:15:20.114405",
   "version": "2.5.0"
  }
 },
 "nbformat": 4,
 "nbformat_minor": 5
}
